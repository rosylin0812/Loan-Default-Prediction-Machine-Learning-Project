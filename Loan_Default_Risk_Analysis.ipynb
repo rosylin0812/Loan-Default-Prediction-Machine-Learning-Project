{
  "cells": [
    {
      "cell_type": "markdown",
      "metadata": {
        "id": "SINpeZ3uQPJt"
      },
      "source": [
        "# Import Data"
      ]
    },
    {
      "cell_type": "code",
      "execution_count": 66,
      "metadata": {
        "id": "_OLIoeFyaHwp"
      },
      "outputs": [],
      "source": [
        "import pandas as pd\n",
        "import numpy as np\n",
        "import matplotlib as mp\n",
        "import matplotlib.pyplot as plt\n",
        "import seaborn as sns"
      ]
    },
    {
      "cell_type": "code",
      "execution_count": 75,
      "metadata": {
        "id": "QRIQhTJujeqz"
      },
      "outputs": [],
      "source": [
        "df= pd.read_csv(\"/application_data.csv\")"
      ]
    },
    {
      "cell_type": "markdown",
      "metadata": {
        "id": "hNeePWkPd7i6"
      },
      "source": [
        "# Exploring"
      ]
    },
    {
      "cell_type": "code",
      "execution_count": null,
      "metadata": {
        "colab": {
          "base_uri": "https://localhost:8080/"
        },
        "id": "Dl8DWtmQaplc",
        "outputId": "b7bdb65b-7412-4ccc-9297-beef7b51da3f"
      },
      "outputs": [
        {
          "data": {
            "text/plain": [
              "SK_ID_CURR                        0\n",
              "TARGET                            0\n",
              "NAME_CONTRACT_TYPE                0\n",
              "CODE_GENDER                       0\n",
              "FLAG_OWN_CAR                      0\n",
              "                              ...  \n",
              "AMT_REQ_CREDIT_BUREAU_DAY     41519\n",
              "AMT_REQ_CREDIT_BUREAU_WEEK    41519\n",
              "AMT_REQ_CREDIT_BUREAU_MON     41519\n",
              "AMT_REQ_CREDIT_BUREAU_QRT     41519\n",
              "AMT_REQ_CREDIT_BUREAU_YEAR    41519\n",
              "Length: 122, dtype: int64"
            ]
          },
          "execution_count": 8,
          "metadata": {},
          "output_type": "execute_result"
        }
      ],
      "source": [
        "df.isnull().sum()"
      ]
    },
    {
      "cell_type": "code",
      "execution_count": null,
      "metadata": {
        "colab": {
          "base_uri": "https://localhost:8080/",
          "height": 299
        },
        "id": "rh8U5b9lairL",
        "outputId": "b34af941-1eea-498e-a7ba-9ce2bb737a35"
      },
      "outputs": [
        {
          "data": {
            "text/html": [
              "\n",
              "  <div id=\"df-8abcc4b7-6e83-4cda-8194-37ba055b31a6\">\n",
              "    <div class=\"colab-df-container\">\n",
              "      <div>\n",
              "<style scoped>\n",
              "    .dataframe tbody tr th:only-of-type {\n",
              "        vertical-align: middle;\n",
              "    }\n",
              "\n",
              "    .dataframe tbody tr th {\n",
              "        vertical-align: top;\n",
              "    }\n",
              "\n",
              "    .dataframe thead th {\n",
              "        text-align: right;\n",
              "    }\n",
              "</style>\n",
              "<table border=\"1\" class=\"dataframe\">\n",
              "  <thead>\n",
              "    <tr style=\"text-align: right;\">\n",
              "      <th></th>\n",
              "      <th>SK_ID_CURR</th>\n",
              "      <th>TARGET</th>\n",
              "      <th>NAME_CONTRACT_TYPE</th>\n",
              "      <th>CODE_GENDER</th>\n",
              "      <th>FLAG_OWN_CAR</th>\n",
              "      <th>FLAG_OWN_REALTY</th>\n",
              "      <th>CNT_CHILDREN</th>\n",
              "      <th>AMT_INCOME_TOTAL</th>\n",
              "      <th>AMT_CREDIT</th>\n",
              "      <th>AMT_ANNUITY</th>\n",
              "      <th>...</th>\n",
              "      <th>FLAG_DOCUMENT_18</th>\n",
              "      <th>FLAG_DOCUMENT_19</th>\n",
              "      <th>FLAG_DOCUMENT_20</th>\n",
              "      <th>FLAG_DOCUMENT_21</th>\n",
              "      <th>AMT_REQ_CREDIT_BUREAU_HOUR</th>\n",
              "      <th>AMT_REQ_CREDIT_BUREAU_DAY</th>\n",
              "      <th>AMT_REQ_CREDIT_BUREAU_WEEK</th>\n",
              "      <th>AMT_REQ_CREDIT_BUREAU_MON</th>\n",
              "      <th>AMT_REQ_CREDIT_BUREAU_QRT</th>\n",
              "      <th>AMT_REQ_CREDIT_BUREAU_YEAR</th>\n",
              "    </tr>\n",
              "  </thead>\n",
              "  <tbody>\n",
              "    <tr>\n",
              "      <th>0</th>\n",
              "      <td>100002</td>\n",
              "      <td>1</td>\n",
              "      <td>Cash loans</td>\n",
              "      <td>M</td>\n",
              "      <td>N</td>\n",
              "      <td>Y</td>\n",
              "      <td>0</td>\n",
              "      <td>202500.0</td>\n",
              "      <td>406597.5</td>\n",
              "      <td>24700.5</td>\n",
              "      <td>...</td>\n",
              "      <td>0</td>\n",
              "      <td>0</td>\n",
              "      <td>0</td>\n",
              "      <td>0</td>\n",
              "      <td>0.0</td>\n",
              "      <td>0.0</td>\n",
              "      <td>0.0</td>\n",
              "      <td>0.0</td>\n",
              "      <td>0.0</td>\n",
              "      <td>1.0</td>\n",
              "    </tr>\n",
              "    <tr>\n",
              "      <th>1</th>\n",
              "      <td>100003</td>\n",
              "      <td>0</td>\n",
              "      <td>Cash loans</td>\n",
              "      <td>F</td>\n",
              "      <td>N</td>\n",
              "      <td>N</td>\n",
              "      <td>0</td>\n",
              "      <td>270000.0</td>\n",
              "      <td>1293502.5</td>\n",
              "      <td>35698.5</td>\n",
              "      <td>...</td>\n",
              "      <td>0</td>\n",
              "      <td>0</td>\n",
              "      <td>0</td>\n",
              "      <td>0</td>\n",
              "      <td>0.0</td>\n",
              "      <td>0.0</td>\n",
              "      <td>0.0</td>\n",
              "      <td>0.0</td>\n",
              "      <td>0.0</td>\n",
              "      <td>0.0</td>\n",
              "    </tr>\n",
              "    <tr>\n",
              "      <th>2</th>\n",
              "      <td>100004</td>\n",
              "      <td>0</td>\n",
              "      <td>Revolving loans</td>\n",
              "      <td>M</td>\n",
              "      <td>Y</td>\n",
              "      <td>Y</td>\n",
              "      <td>0</td>\n",
              "      <td>67500.0</td>\n",
              "      <td>135000.0</td>\n",
              "      <td>6750.0</td>\n",
              "      <td>...</td>\n",
              "      <td>0</td>\n",
              "      <td>0</td>\n",
              "      <td>0</td>\n",
              "      <td>0</td>\n",
              "      <td>0.0</td>\n",
              "      <td>0.0</td>\n",
              "      <td>0.0</td>\n",
              "      <td>0.0</td>\n",
              "      <td>0.0</td>\n",
              "      <td>0.0</td>\n",
              "    </tr>\n",
              "    <tr>\n",
              "      <th>3</th>\n",
              "      <td>100006</td>\n",
              "      <td>0</td>\n",
              "      <td>Cash loans</td>\n",
              "      <td>F</td>\n",
              "      <td>N</td>\n",
              "      <td>Y</td>\n",
              "      <td>0</td>\n",
              "      <td>135000.0</td>\n",
              "      <td>312682.5</td>\n",
              "      <td>29686.5</td>\n",
              "      <td>...</td>\n",
              "      <td>0</td>\n",
              "      <td>0</td>\n",
              "      <td>0</td>\n",
              "      <td>0</td>\n",
              "      <td>NaN</td>\n",
              "      <td>NaN</td>\n",
              "      <td>NaN</td>\n",
              "      <td>NaN</td>\n",
              "      <td>NaN</td>\n",
              "      <td>NaN</td>\n",
              "    </tr>\n",
              "    <tr>\n",
              "      <th>4</th>\n",
              "      <td>100007</td>\n",
              "      <td>0</td>\n",
              "      <td>Cash loans</td>\n",
              "      <td>M</td>\n",
              "      <td>N</td>\n",
              "      <td>Y</td>\n",
              "      <td>0</td>\n",
              "      <td>121500.0</td>\n",
              "      <td>513000.0</td>\n",
              "      <td>21865.5</td>\n",
              "      <td>...</td>\n",
              "      <td>0</td>\n",
              "      <td>0</td>\n",
              "      <td>0</td>\n",
              "      <td>0</td>\n",
              "      <td>0.0</td>\n",
              "      <td>0.0</td>\n",
              "      <td>0.0</td>\n",
              "      <td>0.0</td>\n",
              "      <td>0.0</td>\n",
              "      <td>0.0</td>\n",
              "    </tr>\n",
              "  </tbody>\n",
              "</table>\n",
              "<p>5 rows × 122 columns</p>\n",
              "</div>\n",
              "      <button class=\"colab-df-convert\" onclick=\"convertToInteractive('df-8abcc4b7-6e83-4cda-8194-37ba055b31a6')\"\n",
              "              title=\"Convert this dataframe to an interactive table.\"\n",
              "              style=\"display:none;\">\n",
              "        \n",
              "  <svg xmlns=\"http://www.w3.org/2000/svg\" height=\"24px\"viewBox=\"0 0 24 24\"\n",
              "       width=\"24px\">\n",
              "    <path d=\"M0 0h24v24H0V0z\" fill=\"none\"/>\n",
              "    <path d=\"M18.56 5.44l.94 2.06.94-2.06 2.06-.94-2.06-.94-.94-2.06-.94 2.06-2.06.94zm-11 1L8.5 8.5l.94-2.06 2.06-.94-2.06-.94L8.5 2.5l-.94 2.06-2.06.94zm10 10l.94 2.06.94-2.06 2.06-.94-2.06-.94-.94-2.06-.94 2.06-2.06.94z\"/><path d=\"M17.41 7.96l-1.37-1.37c-.4-.4-.92-.59-1.43-.59-.52 0-1.04.2-1.43.59L10.3 9.45l-7.72 7.72c-.78.78-.78 2.05 0 2.83L4 21.41c.39.39.9.59 1.41.59.51 0 1.02-.2 1.41-.59l7.78-7.78 2.81-2.81c.8-.78.8-2.07 0-2.86zM5.41 20L4 18.59l7.72-7.72 1.47 1.35L5.41 20z\"/>\n",
              "  </svg>\n",
              "      </button>\n",
              "      \n",
              "  <style>\n",
              "    .colab-df-container {\n",
              "      display:flex;\n",
              "      flex-wrap:wrap;\n",
              "      gap: 12px;\n",
              "    }\n",
              "\n",
              "    .colab-df-convert {\n",
              "      background-color: #E8F0FE;\n",
              "      border: none;\n",
              "      border-radius: 50%;\n",
              "      cursor: pointer;\n",
              "      display: none;\n",
              "      fill: #1967D2;\n",
              "      height: 32px;\n",
              "      padding: 0 0 0 0;\n",
              "      width: 32px;\n",
              "    }\n",
              "\n",
              "    .colab-df-convert:hover {\n",
              "      background-color: #E2EBFA;\n",
              "      box-shadow: 0px 1px 2px rgba(60, 64, 67, 0.3), 0px 1px 3px 1px rgba(60, 64, 67, 0.15);\n",
              "      fill: #174EA6;\n",
              "    }\n",
              "\n",
              "    [theme=dark] .colab-df-convert {\n",
              "      background-color: #3B4455;\n",
              "      fill: #D2E3FC;\n",
              "    }\n",
              "\n",
              "    [theme=dark] .colab-df-convert:hover {\n",
              "      background-color: #434B5C;\n",
              "      box-shadow: 0px 1px 3px 1px rgba(0, 0, 0, 0.15);\n",
              "      filter: drop-shadow(0px 1px 2px rgba(0, 0, 0, 0.3));\n",
              "      fill: #FFFFFF;\n",
              "    }\n",
              "  </style>\n",
              "\n",
              "      <script>\n",
              "        const buttonEl =\n",
              "          document.querySelector('#df-8abcc4b7-6e83-4cda-8194-37ba055b31a6 button.colab-df-convert');\n",
              "        buttonEl.style.display =\n",
              "          google.colab.kernel.accessAllowed ? 'block' : 'none';\n",
              "\n",
              "        async function convertToInteractive(key) {\n",
              "          const element = document.querySelector('#df-8abcc4b7-6e83-4cda-8194-37ba055b31a6');\n",
              "          const dataTable =\n",
              "            await google.colab.kernel.invokeFunction('convertToInteractive',\n",
              "                                                     [key], {});\n",
              "          if (!dataTable) return;\n",
              "\n",
              "          const docLinkHtml = 'Like what you see? Visit the ' +\n",
              "            '<a target=\"_blank\" href=https://colab.research.google.com/notebooks/data_table.ipynb>data table notebook</a>'\n",
              "            + ' to learn more about interactive tables.';\n",
              "          element.innerHTML = '';\n",
              "          dataTable['output_type'] = 'display_data';\n",
              "          await google.colab.output.renderOutput(dataTable, element);\n",
              "          const docLink = document.createElement('div');\n",
              "          docLink.innerHTML = docLinkHtml;\n",
              "          element.appendChild(docLink);\n",
              "        }\n",
              "      </script>\n",
              "    </div>\n",
              "  </div>\n",
              "  "
            ],
            "text/plain": [
              "   SK_ID_CURR  TARGET NAME_CONTRACT_TYPE CODE_GENDER FLAG_OWN_CAR  \\\n",
              "0      100002       1         Cash loans           M            N   \n",
              "1      100003       0         Cash loans           F            N   \n",
              "2      100004       0    Revolving loans           M            Y   \n",
              "3      100006       0         Cash loans           F            N   \n",
              "4      100007       0         Cash loans           M            N   \n",
              "\n",
              "  FLAG_OWN_REALTY  CNT_CHILDREN  AMT_INCOME_TOTAL  AMT_CREDIT  AMT_ANNUITY  \\\n",
              "0               Y             0          202500.0    406597.5      24700.5   \n",
              "1               N             0          270000.0   1293502.5      35698.5   \n",
              "2               Y             0           67500.0    135000.0       6750.0   \n",
              "3               Y             0          135000.0    312682.5      29686.5   \n",
              "4               Y             0          121500.0    513000.0      21865.5   \n",
              "\n",
              "   ...  FLAG_DOCUMENT_18 FLAG_DOCUMENT_19 FLAG_DOCUMENT_20 FLAG_DOCUMENT_21  \\\n",
              "0  ...                 0                0                0                0   \n",
              "1  ...                 0                0                0                0   \n",
              "2  ...                 0                0                0                0   \n",
              "3  ...                 0                0                0                0   \n",
              "4  ...                 0                0                0                0   \n",
              "\n",
              "  AMT_REQ_CREDIT_BUREAU_HOUR AMT_REQ_CREDIT_BUREAU_DAY  \\\n",
              "0                        0.0                       0.0   \n",
              "1                        0.0                       0.0   \n",
              "2                        0.0                       0.0   \n",
              "3                        NaN                       NaN   \n",
              "4                        0.0                       0.0   \n",
              "\n",
              "   AMT_REQ_CREDIT_BUREAU_WEEK  AMT_REQ_CREDIT_BUREAU_MON  \\\n",
              "0                         0.0                        0.0   \n",
              "1                         0.0                        0.0   \n",
              "2                         0.0                        0.0   \n",
              "3                         NaN                        NaN   \n",
              "4                         0.0                        0.0   \n",
              "\n",
              "   AMT_REQ_CREDIT_BUREAU_QRT  AMT_REQ_CREDIT_BUREAU_YEAR  \n",
              "0                        0.0                         1.0  \n",
              "1                        0.0                         0.0  \n",
              "2                        0.0                         0.0  \n",
              "3                        NaN                         NaN  \n",
              "4                        0.0                         0.0  \n",
              "\n",
              "[5 rows x 122 columns]"
            ]
          },
          "execution_count": 9,
          "metadata": {},
          "output_type": "execute_result"
        }
      ],
      "source": [
        "df.head()"
      ]
    },
    {
      "cell_type": "code",
      "execution_count": null,
      "metadata": {
        "colab": {
          "base_uri": "https://localhost:8080/"
        },
        "id": "xnGRimDakudQ",
        "outputId": "9d31e4b4-3de1-44e7-e380-b5f9759e0e34"
      },
      "outputs": [
        {
          "data": {
            "text/plain": [
              "0                      SK_ID_CURR\n",
              "1                          TARGET\n",
              "2              NAME_CONTRACT_TYPE\n",
              "3                     CODE_GENDER\n",
              "4                    FLAG_OWN_CAR\n",
              "                  ...            \n",
              "117     AMT_REQ_CREDIT_BUREAU_DAY\n",
              "118    AMT_REQ_CREDIT_BUREAU_WEEK\n",
              "119     AMT_REQ_CREDIT_BUREAU_MON\n",
              "120     AMT_REQ_CREDIT_BUREAU_QRT\n",
              "121    AMT_REQ_CREDIT_BUREAU_YEAR\n",
              "Length: 122, dtype: object"
            ]
          },
          "execution_count": 10,
          "metadata": {},
          "output_type": "execute_result"
        }
      ],
      "source": [
        "pd.Series(df.columns)\n"
      ]
    },
    {
      "cell_type": "markdown",
      "metadata": {
        "id": "6r_JpxzJmiho"
      },
      "source": [
        "## Dealing with Missing Value"
      ]
    },
    {
      "cell_type": "code",
      "execution_count": 73,
      "metadata": {
        "id": "-Wb5GBkgkIuO"
      },
      "outputs": [],
      "source": [
        "#drop columns with missing values\n",
        "df = df.dropna(axis=1)"
      ]
    },
    {
      "cell_type": "code",
      "execution_count": 76,
      "metadata": {
        "id": "m2vURPtTb_z-"
      },
      "outputs": [],
      "source": [
        "# drop SK_ID_CURR columns\n",
        "df.drop('SK_ID_CURR', inplace=True, axis=1)"
      ]
    },
    {
      "cell_type": "code",
      "execution_count": 70,
      "metadata": {
        "colab": {
          "base_uri": "https://localhost:8080/"
        },
        "id": "2BzNOvVklweU",
        "outputId": "99cc8e75-f5a8-4def-fa09-aee0ebe70df9"
      },
      "outputs": [
        {
          "data": {
            "text/plain": [
              "0                          TARGET\n",
              "1              NAME_CONTRACT_TYPE\n",
              "2                     CODE_GENDER\n",
              "3                    FLAG_OWN_CAR\n",
              "4                 FLAG_OWN_REALTY\n",
              "5                    CNT_CHILDREN\n",
              "6                AMT_INCOME_TOTAL\n",
              "7                      AMT_CREDIT\n",
              "8                NAME_INCOME_TYPE\n",
              "9             NAME_EDUCATION_TYPE\n",
              "10             NAME_FAMILY_STATUS\n",
              "11              NAME_HOUSING_TYPE\n",
              "12     REGION_POPULATION_RELATIVE\n",
              "13                     DAYS_BIRTH\n",
              "14                  DAYS_EMPLOYED\n",
              "15              DAYS_REGISTRATION\n",
              "16                DAYS_ID_PUBLISH\n",
              "17                     FLAG_MOBIL\n",
              "18                 FLAG_EMP_PHONE\n",
              "19                FLAG_WORK_PHONE\n",
              "20               FLAG_CONT_MOBILE\n",
              "21                     FLAG_PHONE\n",
              "22                     FLAG_EMAIL\n",
              "23           REGION_RATING_CLIENT\n",
              "24    REGION_RATING_CLIENT_W_CITY\n",
              "25     WEEKDAY_APPR_PROCESS_START\n",
              "26        HOUR_APPR_PROCESS_START\n",
              "27     REG_REGION_NOT_LIVE_REGION\n",
              "28     REG_REGION_NOT_WORK_REGION\n",
              "29    LIVE_REGION_NOT_WORK_REGION\n",
              "30         REG_CITY_NOT_LIVE_CITY\n",
              "31         REG_CITY_NOT_WORK_CITY\n",
              "32        LIVE_CITY_NOT_WORK_CITY\n",
              "dtype: object"
            ]
          },
          "execution_count": 70,
          "metadata": {},
          "output_type": "execute_result"
        }
      ],
      "source": [
        "#drop columns related to organization & documents\n",
        "df.drop(df.iloc[: ,33:54], inplace=True,axis=1) \n",
        "pd.Series(df.columns)\n"
      ]
    },
    {
      "cell_type": "markdown",
      "metadata": {
        "id": "wtl6HFxymypf"
      },
      "source": [
        "## Basic Analysis"
      ]
    },
    {
      "cell_type": "code",
      "execution_count": 71,
      "metadata": {
        "colab": {
          "base_uri": "https://localhost:8080/",
          "height": 464
        },
        "id": "jK3331ApjuYI",
        "outputId": "aca42a11-df02-44b9-8d75-f9609b685489"
      },
      "outputs": [
        {
          "name": "stderr",
          "output_type": "stream",
          "text": [
            "/usr/local/lib/python3.7/dist-packages/seaborn/_decorators.py:43: FutureWarning: Pass the following variables as keyword args: x, y. From version 0.12, the only valid positional argument will be `data`, and passing other arguments without an explicit keyword will result in an error or misinterpretation.\n",
            "  FutureWarning\n"
          ]
        },
        {
          "data": {
            "text/plain": [
              "<matplotlib.axes._subplots.AxesSubplot at 0x7f5a2762c510>"
            ]
          },
          "execution_count": 71,
          "metadata": {},
          "output_type": "execute_result"
        },
        {
          "data": {
            "image/png": "[encoded data removed]",
            "text/plain": [
              "<Figure size 1008x432 with 1 Axes>"
            ]
          },
          "metadata": {
            "needs_background": "light"
          },
          "output_type": "display_data"
        }
      ],
      "source": [
        "plt.figure(figsize=(14, 6))\n",
        "sns.barplot(df.NAME_INCOME_TYPE, df.TARGET, hue=df.NAME_CONTRACT_TYPE, ci=None)"
      ]
    },
    {
      "cell_type": "code",
      "execution_count": 72,
      "metadata": {
        "colab": {
          "base_uri": "https://localhost:8080/",
          "height": 636
        },
        "id": "fvquNlPcpF8C",
        "outputId": "03a466d8-4a95-4c8f-ae0b-b8088533e217"
      },
      "outputs": [
        {
          "name": "stderr",
          "output_type": "stream",
          "text": [
            "/usr/local/lib/python3.7/dist-packages/seaborn/_decorators.py:43: FutureWarning: Pass the following variables as keyword args: x, y. From version 0.12, the only valid positional argument will be `data`, and passing other arguments without an explicit keyword will result in an error or misinterpretation.\n",
            "  FutureWarning\n",
            "/usr/local/lib/python3.7/dist-packages/seaborn/_decorators.py:43: FutureWarning: Pass the following variables as keyword args: x, y. From version 0.12, the only valid positional argument will be `data`, and passing other arguments without an explicit keyword will result in an error or misinterpretation.\n",
            "  FutureWarning\n"
          ]
        },
        {
          "data": {
            "image/png": "[encoded data removed]",
            "text/plain": [
              "<Figure size 360x288 with 1 Axes>"
            ]
          },
          "metadata": {
            "needs_background": "light"
          },
          "output_type": "display_data"
        },
        {
          "data": {
            "image/png": "[encoded data removed]",
            "text/plain": [
              "<Figure size 360x288 with 1 Axes>"
            ]
          },
          "metadata": {
            "needs_background": "light"
          },
          "output_type": "display_data"
        }
      ],
      "source": [
        "#creating a loop to print out the relationship between target and the following features\n",
        "for index, columns in enumerate(df.columns[5:7]):\n",
        "    plt.figure(figsize=(5, 4))\n",
        "    sns.scatterplot(df[columns], df.TARGET )"
      ]
    },
    {
      "cell_type": "markdown",
      "metadata": {
        "id": "nOtGh3hmp6Ll"
      },
      "source": [
        "# Preprocessing"
      ]
    },
    {
      "cell_type": "code",
      "execution_count": null,
      "metadata": {
        "id": "cJR-i5gYK8mD"
      },
      "outputs": [],
      "source": [
        "# encoding columns that does not contain float64 or int64 values\n",
        "df_for_dummy = df.loc[:,(df.dtypes=='object').values]\n",
        "x = []\n",
        "for colname in df_for_dummy:\n",
        "    x.append(colname)\n",
        "\n",
        "df_in_dummy = pd.get_dummies(df_for_dummy, prefix=x, drop_first=False)\n",
        "df_in_dummy"
      ]
    },
    {
      "cell_type": "code",
      "execution_count": null,
      "metadata": {
        "id": "9mrLOBLNqdu5"
      },
      "outputs": [],
      "source": [
        "# show columns that contain object values\n",
        "rows = []\n",
        "for colname in df.columns:\n",
        "    if df[colname].dtypes == \"object\":\n",
        "      rows.append([colname, df[colname].unique()])\n",
        "\n",
        "colname_uniq_val = pd.DataFrame(rows, columns=[\"colname_obj\", \"uniq_value\"])\n",
        "colname_uniq_val"
      ]
    },
    {
      "cell_type": "code",
      "execution_count": null,
      "metadata": {
        "colab": {
          "base_uri": "https://localhost:8080/",
          "height": 505
        },
        "id": "KijmVFONTHlt",
        "outputId": "213810a6-f291-47bc-c804-c628d4d8035a"
      },
      "outputs": [
        {
          "data": {
            "text/html": [
              "\n",
              "  <div id=\"df-488a9e6e-cede-4c4d-acdb-e4fc6fc4025a\">\n",
              "    <div class=\"colab-df-container\">\n",
              "      <div>\n",
              "<style scoped>\n",
              "    .dataframe tbody tr th:only-of-type {\n",
              "        vertical-align: middle;\n",
              "    }\n",
              "\n",
              "    .dataframe tbody tr th {\n",
              "        vertical-align: top;\n",
              "    }\n",
              "\n",
              "    .dataframe thead th {\n",
              "        text-align: right;\n",
              "    }\n",
              "</style>\n",
              "<table border=\"1\" class=\"dataframe\">\n",
              "  <thead>\n",
              "    <tr style=\"text-align: right;\">\n",
              "      <th></th>\n",
              "      <th>TARGET</th>\n",
              "      <th>CNT_CHILDREN</th>\n",
              "      <th>AMT_INCOME_TOTAL</th>\n",
              "      <th>AMT_CREDIT</th>\n",
              "      <th>REGION_POPULATION_RELATIVE</th>\n",
              "      <th>DAYS_BIRTH</th>\n",
              "      <th>DAYS_EMPLOYED</th>\n",
              "      <th>DAYS_REGISTRATION</th>\n",
              "      <th>DAYS_ID_PUBLISH</th>\n",
              "      <th>FLAG_MOBIL</th>\n",
              "      <th>...</th>\n",
              "      <th>NAME_HOUSING_TYPE_Office apartment</th>\n",
              "      <th>NAME_HOUSING_TYPE_Rented apartment</th>\n",
              "      <th>NAME_HOUSING_TYPE_With parents</th>\n",
              "      <th>WEEKDAY_APPR_PROCESS_START_FRIDAY</th>\n",
              "      <th>WEEKDAY_APPR_PROCESS_START_MONDAY</th>\n",
              "      <th>WEEKDAY_APPR_PROCESS_START_SATURDAY</th>\n",
              "      <th>WEEKDAY_APPR_PROCESS_START_SUNDAY</th>\n",
              "      <th>WEEKDAY_APPR_PROCESS_START_THURSDAY</th>\n",
              "      <th>WEEKDAY_APPR_PROCESS_START_TUESDAY</th>\n",
              "      <th>WEEKDAY_APPR_PROCESS_START_WEDNESDAY</th>\n",
              "    </tr>\n",
              "  </thead>\n",
              "  <tbody>\n",
              "    <tr>\n",
              "      <th>0</th>\n",
              "      <td>1</td>\n",
              "      <td>0</td>\n",
              "      <td>202500.0</td>\n",
              "      <td>406597.5</td>\n",
              "      <td>0.018801</td>\n",
              "      <td>-9461</td>\n",
              "      <td>-637</td>\n",
              "      <td>-3648.0</td>\n",
              "      <td>-2120</td>\n",
              "      <td>1</td>\n",
              "      <td>...</td>\n",
              "      <td>0</td>\n",
              "      <td>0</td>\n",
              "      <td>0</td>\n",
              "      <td>0</td>\n",
              "      <td>0</td>\n",
              "      <td>0</td>\n",
              "      <td>0</td>\n",
              "      <td>0</td>\n",
              "      <td>0</td>\n",
              "      <td>1</td>\n",
              "    </tr>\n",
              "    <tr>\n",
              "      <th>1</th>\n",
              "      <td>0</td>\n",
              "      <td>0</td>\n",
              "      <td>270000.0</td>\n",
              "      <td>1293502.5</td>\n",
              "      <td>0.003541</td>\n",
              "      <td>-16765</td>\n",
              "      <td>-1188</td>\n",
              "      <td>-1186.0</td>\n",
              "      <td>-291</td>\n",
              "      <td>1</td>\n",
              "      <td>...</td>\n",
              "      <td>0</td>\n",
              "      <td>0</td>\n",
              "      <td>0</td>\n",
              "      <td>0</td>\n",
              "      <td>1</td>\n",
              "      <td>0</td>\n",
              "      <td>0</td>\n",
              "      <td>0</td>\n",
              "      <td>0</td>\n",
              "      <td>0</td>\n",
              "    </tr>\n",
              "    <tr>\n",
              "      <th>2</th>\n",
              "      <td>0</td>\n",
              "      <td>0</td>\n",
              "      <td>67500.0</td>\n",
              "      <td>135000.0</td>\n",
              "      <td>0.010032</td>\n",
              "      <td>-19046</td>\n",
              "      <td>-225</td>\n",
              "      <td>-4260.0</td>\n",
              "      <td>-2531</td>\n",
              "      <td>1</td>\n",
              "      <td>...</td>\n",
              "      <td>0</td>\n",
              "      <td>0</td>\n",
              "      <td>0</td>\n",
              "      <td>0</td>\n",
              "      <td>1</td>\n",
              "      <td>0</td>\n",
              "      <td>0</td>\n",
              "      <td>0</td>\n",
              "      <td>0</td>\n",
              "      <td>0</td>\n",
              "    </tr>\n",
              "    <tr>\n",
              "      <th>3</th>\n",
              "      <td>0</td>\n",
              "      <td>0</td>\n",
              "      <td>135000.0</td>\n",
              "      <td>312682.5</td>\n",
              "      <td>0.008019</td>\n",
              "      <td>-19005</td>\n",
              "      <td>-3039</td>\n",
              "      <td>-9833.0</td>\n",
              "      <td>-2437</td>\n",
              "      <td>1</td>\n",
              "      <td>...</td>\n",
              "      <td>0</td>\n",
              "      <td>0</td>\n",
              "      <td>0</td>\n",
              "      <td>0</td>\n",
              "      <td>0</td>\n",
              "      <td>0</td>\n",
              "      <td>0</td>\n",
              "      <td>0</td>\n",
              "      <td>0</td>\n",
              "      <td>1</td>\n",
              "    </tr>\n",
              "    <tr>\n",
              "      <th>4</th>\n",
              "      <td>0</td>\n",
              "      <td>0</td>\n",
              "      <td>121500.0</td>\n",
              "      <td>513000.0</td>\n",
              "      <td>0.028663</td>\n",
              "      <td>-19932</td>\n",
              "      <td>-3038</td>\n",
              "      <td>-4311.0</td>\n",
              "      <td>-3458</td>\n",
              "      <td>1</td>\n",
              "      <td>...</td>\n",
              "      <td>0</td>\n",
              "      <td>0</td>\n",
              "      <td>0</td>\n",
              "      <td>0</td>\n",
              "      <td>0</td>\n",
              "      <td>0</td>\n",
              "      <td>0</td>\n",
              "      <td>1</td>\n",
              "      <td>0</td>\n",
              "      <td>0</td>\n",
              "    </tr>\n",
              "    <tr>\n",
              "      <th>...</th>\n",
              "      <td>...</td>\n",
              "      <td>...</td>\n",
              "      <td>...</td>\n",
              "      <td>...</td>\n",
              "      <td>...</td>\n",
              "      <td>...</td>\n",
              "      <td>...</td>\n",
              "      <td>...</td>\n",
              "      <td>...</td>\n",
              "      <td>...</td>\n",
              "      <td>...</td>\n",
              "      <td>...</td>\n",
              "      <td>...</td>\n",
              "      <td>...</td>\n",
              "      <td>...</td>\n",
              "      <td>...</td>\n",
              "      <td>...</td>\n",
              "      <td>...</td>\n",
              "      <td>...</td>\n",
              "      <td>...</td>\n",
              "      <td>...</td>\n",
              "    </tr>\n",
              "    <tr>\n",
              "      <th>307506</th>\n",
              "      <td>0</td>\n",
              "      <td>0</td>\n",
              "      <td>157500.0</td>\n",
              "      <td>254700.0</td>\n",
              "      <td>0.032561</td>\n",
              "      <td>-9327</td>\n",
              "      <td>-236</td>\n",
              "      <td>-8456.0</td>\n",
              "      <td>-1982</td>\n",
              "      <td>1</td>\n",
              "      <td>...</td>\n",
              "      <td>0</td>\n",
              "      <td>0</td>\n",
              "      <td>1</td>\n",
              "      <td>0</td>\n",
              "      <td>0</td>\n",
              "      <td>0</td>\n",
              "      <td>0</td>\n",
              "      <td>1</td>\n",
              "      <td>0</td>\n",
              "      <td>0</td>\n",
              "    </tr>\n",
              "    <tr>\n",
              "      <th>307507</th>\n",
              "      <td>0</td>\n",
              "      <td>0</td>\n",
              "      <td>72000.0</td>\n",
              "      <td>269550.0</td>\n",
              "      <td>0.025164</td>\n",
              "      <td>-20775</td>\n",
              "      <td>365243</td>\n",
              "      <td>-4388.0</td>\n",
              "      <td>-4090</td>\n",
              "      <td>1</td>\n",
              "      <td>...</td>\n",
              "      <td>0</td>\n",
              "      <td>0</td>\n",
              "      <td>0</td>\n",
              "      <td>0</td>\n",
              "      <td>1</td>\n",
              "      <td>0</td>\n",
              "      <td>0</td>\n",
              "      <td>0</td>\n",
              "      <td>0</td>\n",
              "      <td>0</td>\n",
              "    </tr>\n",
              "    <tr>\n",
              "      <th>307508</th>\n",
              "      <td>0</td>\n",
              "      <td>0</td>\n",
              "      <td>153000.0</td>\n",
              "      <td>677664.0</td>\n",
              "      <td>0.005002</td>\n",
              "      <td>-14966</td>\n",
              "      <td>-7921</td>\n",
              "      <td>-6737.0</td>\n",
              "      <td>-5150</td>\n",
              "      <td>1</td>\n",
              "      <td>...</td>\n",
              "      <td>0</td>\n",
              "      <td>0</td>\n",
              "      <td>0</td>\n",
              "      <td>0</td>\n",
              "      <td>0</td>\n",
              "      <td>0</td>\n",
              "      <td>0</td>\n",
              "      <td>1</td>\n",
              "      <td>0</td>\n",
              "      <td>0</td>\n",
              "    </tr>\n",
              "    <tr>\n",
              "      <th>307509</th>\n",
              "      <td>1</td>\n",
              "      <td>0</td>\n",
              "      <td>171000.0</td>\n",
              "      <td>370107.0</td>\n",
              "      <td>0.005313</td>\n",
              "      <td>-11961</td>\n",
              "      <td>-4786</td>\n",
              "      <td>-2562.0</td>\n",
              "      <td>-931</td>\n",
              "      <td>1</td>\n",
              "      <td>...</td>\n",
              "      <td>0</td>\n",
              "      <td>0</td>\n",
              "      <td>0</td>\n",
              "      <td>0</td>\n",
              "      <td>0</td>\n",
              "      <td>0</td>\n",
              "      <td>0</td>\n",
              "      <td>0</td>\n",
              "      <td>0</td>\n",
              "      <td>1</td>\n",
              "    </tr>\n",
              "    <tr>\n",
              "      <th>307510</th>\n",
              "      <td>0</td>\n",
              "      <td>0</td>\n",
              "      <td>157500.0</td>\n",
              "      <td>675000.0</td>\n",
              "      <td>0.046220</td>\n",
              "      <td>-16856</td>\n",
              "      <td>-1262</td>\n",
              "      <td>-5128.0</td>\n",
              "      <td>-410</td>\n",
              "      <td>1</td>\n",
              "      <td>...</td>\n",
              "      <td>0</td>\n",
              "      <td>0</td>\n",
              "      <td>0</td>\n",
              "      <td>0</td>\n",
              "      <td>0</td>\n",
              "      <td>0</td>\n",
              "      <td>0</td>\n",
              "      <td>1</td>\n",
              "      <td>0</td>\n",
              "      <td>0</td>\n",
              "    </tr>\n",
              "  </tbody>\n",
              "</table>\n",
              "<p>307511 rows × 65 columns</p>\n",
              "</div>\n",
              "      <button class=\"colab-df-convert\" onclick=\"convertToInteractive('df-488a9e6e-cede-4c4d-acdb-e4fc6fc4025a')\"\n",
              "              title=\"Convert this dataframe to an interactive table.\"\n",
              "              style=\"display:none;\">\n",
              "        \n",
              "  <svg xmlns=\"http://www.w3.org/2000/svg\" height=\"24px\"viewBox=\"0 0 24 24\"\n",
              "       width=\"24px\">\n",
              "    <path d=\"M0 0h24v24H0V0z\" fill=\"none\"/>\n",
              "    <path d=\"M18.56 5.44l.94 2.06.94-2.06 2.06-.94-2.06-.94-.94-2.06-.94 2.06-2.06.94zm-11 1L8.5 8.5l.94-2.06 2.06-.94-2.06-.94L8.5 2.5l-.94 2.06-2.06.94zm10 10l.94 2.06.94-2.06 2.06-.94-2.06-.94-.94-2.06-.94 2.06-2.06.94z\"/><path d=\"M17.41 7.96l-1.37-1.37c-.4-.4-.92-.59-1.43-.59-.52 0-1.04.2-1.43.59L10.3 9.45l-7.72 7.72c-.78.78-.78 2.05 0 2.83L4 21.41c.39.39.9.59 1.41.59.51 0 1.02-.2 1.41-.59l7.78-7.78 2.81-2.81c.8-.78.8-2.07 0-2.86zM5.41 20L4 18.59l7.72-7.72 1.47 1.35L5.41 20z\"/>\n",
              "  </svg>\n",
              "      </button>\n",
              "      \n",
              "  <style>\n",
              "    .colab-df-container {\n",
              "      display:flex;\n",
              "      flex-wrap:wrap;\n",
              "      gap: 12px;\n",
              "    }\n",
              "\n",
              "    .colab-df-convert {\n",
              "      background-color: #E8F0FE;\n",
              "      border: none;\n",
              "      border-radius: 50%;\n",
              "      cursor: pointer;\n",
              "      display: none;\n",
              "      fill: #1967D2;\n",
              "      height: 32px;\n",
              "      padding: 0 0 0 0;\n",
              "      width: 32px;\n",
              "    }\n",
              "\n",
              "    .colab-df-convert:hover {\n",
              "      background-color: #E2EBFA;\n",
              "      box-shadow: 0px 1px 2px rgba(60, 64, 67, 0.3), 0px 1px 3px 1px rgba(60, 64, 67, 0.15);\n",
              "      fill: #174EA6;\n",
              "    }\n",
              "\n",
              "    [theme=dark] .colab-df-convert {\n",
              "      background-color: #3B4455;\n",
              "      fill: #D2E3FC;\n",
              "    }\n",
              "\n",
              "    [theme=dark] .colab-df-convert:hover {\n",
              "      background-color: #434B5C;\n",
              "      box-shadow: 0px 1px 3px 1px rgba(0, 0, 0, 0.15);\n",
              "      filter: drop-shadow(0px 1px 2px rgba(0, 0, 0, 0.3));\n",
              "      fill: #FFFFFF;\n",
              "    }\n",
              "  </style>\n",
              "\n",
              "      <script>\n",
              "        const buttonEl =\n",
              "          document.querySelector('#df-488a9e6e-cede-4c4d-acdb-e4fc6fc4025a button.colab-df-convert');\n",
              "        buttonEl.style.display =\n",
              "          google.colab.kernel.accessAllowed ? 'block' : 'none';\n",
              "\n",
              "        async function convertToInteractive(key) {\n",
              "          const element = document.querySelector('#df-488a9e6e-cede-4c4d-acdb-e4fc6fc4025a');\n",
              "          const dataTable =\n",
              "            await google.colab.kernel.invokeFunction('convertToInteractive',\n",
              "                                                     [key], {});\n",
              "          if (!dataTable) return;\n",
              "\n",
              "          const docLinkHtml = 'Like what you see? Visit the ' +\n",
              "            '<a target=\"_blank\" href=https://colab.research.google.com/notebooks/data_table.ipynb>data table notebook</a>'\n",
              "            + ' to learn more about interactive tables.';\n",
              "          element.innerHTML = '';\n",
              "          dataTable['output_type'] = 'display_data';\n",
              "          await google.colab.output.renderOutput(dataTable, element);\n",
              "          const docLink = document.createElement('div');\n",
              "          docLink.innerHTML = docLinkHtml;\n",
              "          element.appendChild(docLink);\n",
              "        }\n",
              "      </script>\n",
              "    </div>\n",
              "  </div>\n",
              "  "
            ],
            "text/plain": [
              "        TARGET  CNT_CHILDREN  AMT_INCOME_TOTAL  AMT_CREDIT  \\\n",
              "0            1             0          202500.0    406597.5   \n",
              "1            0             0          270000.0   1293502.5   \n",
              "2            0             0           67500.0    135000.0   \n",
              "3            0             0          135000.0    312682.5   \n",
              "4            0             0          121500.0    513000.0   \n",
              "...        ...           ...               ...         ...   \n",
              "307506       0             0          157500.0    254700.0   \n",
              "307507       0             0           72000.0    269550.0   \n",
              "307508       0             0          153000.0    677664.0   \n",
              "307509       1             0          171000.0    370107.0   \n",
              "307510       0             0          157500.0    675000.0   \n",
              "\n",
              "        REGION_POPULATION_RELATIVE  DAYS_BIRTH  DAYS_EMPLOYED  \\\n",
              "0                         0.018801       -9461           -637   \n",
              "1                         0.003541      -16765          -1188   \n",
              "2                         0.010032      -19046           -225   \n",
              "3                         0.008019      -19005          -3039   \n",
              "4                         0.028663      -19932          -3038   \n",
              "...                            ...         ...            ...   \n",
              "307506                    0.032561       -9327           -236   \n",
              "307507                    0.025164      -20775         365243   \n",
              "307508                    0.005002      -14966          -7921   \n",
              "307509                    0.005313      -11961          -4786   \n",
              "307510                    0.046220      -16856          -1262   \n",
              "\n",
              "        DAYS_REGISTRATION  DAYS_ID_PUBLISH  FLAG_MOBIL  ...  \\\n",
              "0                 -3648.0            -2120           1  ...   \n",
              "1                 -1186.0             -291           1  ...   \n",
              "2                 -4260.0            -2531           1  ...   \n",
              "3                 -9833.0            -2437           1  ...   \n",
              "4                 -4311.0            -3458           1  ...   \n",
              "...                   ...              ...         ...  ...   \n",
              "307506            -8456.0            -1982           1  ...   \n",
              "307507            -4388.0            -4090           1  ...   \n",
              "307508            -6737.0            -5150           1  ...   \n",
              "307509            -2562.0             -931           1  ...   \n",
              "307510            -5128.0             -410           1  ...   \n",
              "\n",
              "        NAME_HOUSING_TYPE_Office apartment  \\\n",
              "0                                        0   \n",
              "1                                        0   \n",
              "2                                        0   \n",
              "3                                        0   \n",
              "4                                        0   \n",
              "...                                    ...   \n",
              "307506                                   0   \n",
              "307507                                   0   \n",
              "307508                                   0   \n",
              "307509                                   0   \n",
              "307510                                   0   \n",
              "\n",
              "        NAME_HOUSING_TYPE_Rented apartment  NAME_HOUSING_TYPE_With parents  \\\n",
              "0                                        0                               0   \n",
              "1                                        0                               0   \n",
              "2                                        0                               0   \n",
              "3                                        0                               0   \n",
              "4                                        0                               0   \n",
              "...                                    ...                             ...   \n",
              "307506                                   0                               1   \n",
              "307507                                   0                               0   \n",
              "307508                                   0                               0   \n",
              "307509                                   0                               0   \n",
              "307510                                   0                               0   \n",
              "\n",
              "        WEEKDAY_APPR_PROCESS_START_FRIDAY  WEEKDAY_APPR_PROCESS_START_MONDAY  \\\n",
              "0                                       0                                  0   \n",
              "1                                       0                                  1   \n",
              "2                                       0                                  1   \n",
              "3                                       0                                  0   \n",
              "4                                       0                                  0   \n",
              "...                                   ...                                ...   \n",
              "307506                                  0                                  0   \n",
              "307507                                  0                                  1   \n",
              "307508                                  0                                  0   \n",
              "307509                                  0                                  0   \n",
              "307510                                  0                                  0   \n",
              "\n",
              "        WEEKDAY_APPR_PROCESS_START_SATURDAY  \\\n",
              "0                                         0   \n",
              "1                                         0   \n",
              "2                                         0   \n",
              "3                                         0   \n",
              "4                                         0   \n",
              "...                                     ...   \n",
              "307506                                    0   \n",
              "307507                                    0   \n",
              "307508                                    0   \n",
              "307509                                    0   \n",
              "307510                                    0   \n",
              "\n",
              "        WEEKDAY_APPR_PROCESS_START_SUNDAY  \\\n",
              "0                                       0   \n",
              "1                                       0   \n",
              "2                                       0   \n",
              "3                                       0   \n",
              "4                                       0   \n",
              "...                                   ...   \n",
              "307506                                  0   \n",
              "307507                                  0   \n",
              "307508                                  0   \n",
              "307509                                  0   \n",
              "307510                                  0   \n",
              "\n",
              "        WEEKDAY_APPR_PROCESS_START_THURSDAY  \\\n",
              "0                                         0   \n",
              "1                                         0   \n",
              "2                                         0   \n",
              "3                                         0   \n",
              "4                                         1   \n",
              "...                                     ...   \n",
              "307506                                    1   \n",
              "307507                                    0   \n",
              "307508                                    1   \n",
              "307509                                    0   \n",
              "307510                                    1   \n",
              "\n",
              "        WEEKDAY_APPR_PROCESS_START_TUESDAY  \\\n",
              "0                                        0   \n",
              "1                                        0   \n",
              "2                                        0   \n",
              "3                                        0   \n",
              "4                                        0   \n",
              "...                                    ...   \n",
              "307506                                   0   \n",
              "307507                                   0   \n",
              "307508                                   0   \n",
              "307509                                   0   \n",
              "307510                                   0   \n",
              "\n",
              "        WEEKDAY_APPR_PROCESS_START_WEDNESDAY  \n",
              "0                                          1  \n",
              "1                                          0  \n",
              "2                                          0  \n",
              "3                                          1  \n",
              "4                                          0  \n",
              "...                                      ...  \n",
              "307506                                     0  \n",
              "307507                                     0  \n",
              "307508                                     0  \n",
              "307509                                     1  \n",
              "307510                                     0  \n",
              "\n",
              "[307511 rows x 65 columns]"
            ]
          },
          "execution_count": 8,
          "metadata": {},
          "output_type": "execute_result"
        }
      ],
      "source": [
        "# drop columns that contain values of object type\n",
        "df.drop(colname_uniq_val['colname_obj'], axis=1, inplace=True)\n",
        "# merge df without object type and df in dummy variables\n",
        "df = pd.concat([df, df_in_dummy], axis=1)\n",
        "df"
      ]
    },
    {
      "cell_type": "markdown",
      "metadata": {
        "id": "BgnmVMB-MRsp"
      },
      "source": [
        "##Download manipulated data into csv"
      ]
    },
    {
      "cell_type": "code",
      "execution_count": null,
      "metadata": {
        "colab": {
          "base_uri": "https://localhost:8080/",
          "height": 17
        },
        "id": "zQO0RPCTKS-Y",
        "outputId": "1327076e-e09f-4739-b48f-f1c4b7a2fd2c"
      },
      "outputs": [
        {
          "data": {
            "application/javascript": "\n    async function download(id, filename, size) {\n      if (!google.colab.kernel.accessAllowed) {\n        return;\n      }\n      const div = document.createElement('div');\n      const label = document.createElement('label');\n      label.textContent = `Downloading \"${filename}\": `;\n      div.appendChild(label);\n      const progress = document.createElement('progress');\n      progress.max = size;\n      div.appendChild(progress);\n      document.body.appendChild(div);\n\n      const buffers = [];\n      let downloaded = 0;\n\n      const channel = await google.colab.kernel.comms.open(id);\n      // Send a message to notify the kernel that we're ready.\n      channel.send({})\n\n      for await (const message of channel.messages) {\n        // Send a message to notify the kernel that we're ready.\n        channel.send({})\n        if (message.buffers) {\n          for (const buffer of message.buffers) {\n            buffers.push(buffer);\n            downloaded += buffer.byteLength;\n            progress.value = downloaded;\n          }\n        }\n      }\n      const blob = new Blob(buffers, {type: 'application/binary'});\n      const a = document.createElement('a');\n      a.href = window.URL.createObjectURL(blob);\n      a.download = filename;\n      div.appendChild(a);\n      a.click();\n      div.remove();\n    }\n  ",
            "text/plain": [
              "<IPython.core.display.Javascript object>"
            ]
          },
          "metadata": {},
          "output_type": "display_data"
        },
        {
          "data": {
            "application/javascript": "download(\"download_c4e9cb9a-80cb-47ea-bc17-4774ee666ca1\", \"df.csv\", 54649035)",
            "text/plain": [
              "<IPython.core.display.Javascript object>"
            ]
          },
          "metadata": {},
          "output_type": "display_data"
        }
      ],
      "source": [
        "from google.colab import files\n",
        "import pandas as pd\n",
        "df.to_csv('df.csv')\n",
        "files.download('df.csv')"
      ]
    },
    {
      "cell_type": "markdown",
      "metadata": {
        "id": "gMF-G8KZI_K4"
      },
      "source": [
        "## Splitting Data"
      ]
    },
    {
      "cell_type": "code",
      "execution_count": null,
      "metadata": {
        "id": "CuNwDtOGu2wE"
      },
      "outputs": [],
      "source": [
        "y=df['TARGET']\n",
        "X= df.loc[:, df.columns != 'TARGET']"
      ]
    },
    {
      "cell_type": "code",
      "execution_count": null,
      "metadata": {
        "colab": {
          "base_uri": "https://localhost:8080/"
        },
        "id": "EgItOOz0p0G4",
        "outputId": "b32b89a9-1a11-454f-eccb-e811d98c4e4a"
      },
      "outputs": [
        {
          "name": "stdout",
          "output_type": "stream",
          "text": [
            "(246008, 64) rows for training and (61503, 64) rows for testing\n"
          ]
        }
      ],
      "source": [
        "from sklearn.model_selection import train_test_split\n",
        "X_train, X_test, y_train, y_test =  train_test_split(X,y,test_size = 0.2, random_state= 0)\n",
        "print(X_train.shape, \"rows for training and\", X_test.shape, \"rows for testing\")"
      ]
    },
    {
      "cell_type": "markdown",
      "metadata": {
        "id": "Lpg9r0N7JLLS"
      },
      "source": [
        "# Modeling"
      ]
    },
    {
      "cell_type": "markdown",
      "metadata": {
        "id": "9ED3LgV-JFGY"
      },
      "source": [
        "### Logistic Regression"
      ]
    },
    {
      "cell_type": "code",
      "execution_count": null,
      "metadata": {
        "colab": {
          "base_uri": "https://localhost:8080/"
        },
        "id": "8gE-bRhcy9Am",
        "outputId": "e9fd55d7-1087-49df-f288-b6aa423d4832"
      },
      "outputs": [
        {
          "name": "stderr",
          "output_type": "stream",
          "text": [
            "/usr/local/lib/python3.7/dist-packages/sklearn/linear_model/_logistic.py:818: ConvergenceWarning: lbfgs failed to converge (status=1):\n",
            "STOP: TOTAL NO. of ITERATIONS REACHED LIMIT.\n",
            "\n",
            "Increase the number of iterations (max_iter) or scale the data as shown in:\n",
            "    https://scikit-learn.org/stable/modules/preprocessing.html\n",
            "Please also refer to the documentation for alternative solver options:\n",
            "    https://scikit-learn.org/stable/modules/linear_model.html#logistic-regression\n",
            "  extra_warning_msg=_LOGISTIC_SOLVER_CONVERGENCE_MSG,\n"
          ]
        },
        {
          "data": {
            "text/plain": [
              "0.9210607612636782"
            ]
          },
          "execution_count": 92,
          "metadata": {},
          "output_type": "execute_result"
        }
      ],
      "source": [
        "#fitting logistic regression\n",
        "from sklearn.linear_model import LogisticRegression\n",
        "lm = LogisticRegression().fit(X_train, y_train)\n",
        "y_pred=lm.predict(X_test)\n",
        "#getting score\n",
        "score = lm.score(X_test, y_test)\n",
        "score"
      ]
    },
    {
      "cell_type": "code",
      "execution_count": null,
      "metadata": {
        "colab": {
          "base_uri": "https://localhost:8080/",
          "height": 297
        },
        "id": "GCaVeoLq1isy",
        "outputId": "ff928369-26a7-4cd3-e28b-f2d56be7c723"
      },
      "outputs": [
        {
          "data": {
            "image/png": "[encoded data removed]",
            "text/plain": [
              "<Figure size 360x288 with 2 Axes>"
            ]
          },
          "metadata": {
            "needs_background": "light"
          },
          "output_type": "display_data"
        }
      ],
      "source": [
        "#confusion matrix\n",
        "import seaborn as sns\n",
        "import matplotlib.pyplot as plt\n",
        "from sklearn import metrics\n",
        "cm = metrics.confusion_matrix(y_test, y_pred)\n",
        "plt.figure(figsize=(5,4))\n",
        "sns.heatmap(cm, annot=True, fmt=\".3f\", linewidths=.5, square = True, cmap = 'Blues_r');\n",
        "plt.ylabel('Actual label');\n",
        "plt.xlabel('Predicted label');\n",
        "score = round(score, 6)\n",
        "all_sample_title = 'Accuracy Score: {0}'.format(score)\n",
        "plt.title(all_sample_title, size = 15);"
      ]
    },
    {
      "cell_type": "markdown",
      "metadata": {
        "id": "n8jpM1hcI1hX"
      },
      "source": [
        "### Decision Tree"
      ]
    },
    {
      "cell_type": "code",
      "execution_count": null,
      "metadata": {
        "id": "pgnDCDOp54XI"
      },
      "outputs": [],
      "source": [
        "#Decision Tree Classifier\n",
        "from sklearn.tree import DecisionTreeClassifier\n",
        "clf = DecisionTreeClassifier()\n",
        "clf = clf.fit(X_train,y_train)\n",
        "y_pred_dt = clf.predict(X_test)"
      ]
    },
    {
      "cell_type": "code",
      "execution_count": 34,
      "metadata": {
        "colab": {
          "base_uri": "https://localhost:8080/"
        },
        "id": "tJOSgb5p9lop",
        "outputId": "b82e103c-9f18-48a2-8428-36c02b37936d"
      },
      "outputs": [
        {
          "name": "stdout",
          "output_type": "stream",
          "text": [
            "Accuracy: 0.8449994309220689\n"
          ]
        }
      ],
      "source": [
        "from sklearn import metrics\n",
        "print(\"Accuracy:\",metrics.accuracy_score(y_test, y_pred_dt))"
      ]
    },
    {
      "cell_type": "code",
      "execution_count": null,
      "metadata": {
        "id": "8JlhwTCu6imh"
      },
      "outputs": [],
      "source": [
        "from sklearn import tree\n",
        "fig, axes = plt.subplots(nrows = 1,ncols = 1,figsize = (20,20), dpi=300)\n",
        "tree.plot_tree(clf,\n",
        "               feature_names = df.columns,\n",
        "               filled = True,\n",
        "               fontsize=6,\n",
        "               max_depth=4);"
      ]
    },
    {
      "cell_type": "markdown",
      "metadata": {
        "id": "E9a_VIBSIpzd"
      },
      "source": [
        "### Neural Network"
      ]
    },
    {
      "cell_type": "code",
      "execution_count": 57,
      "metadata": {
        "colab": {
          "base_uri": "https://localhost:8080/"
        },
        "id": "TEUMihqrtfHp",
        "outputId": "c125dfb0-90b2-492b-e4e8-0b5906394055"
      },
      "outputs": [
        {
          "name": "stdout",
          "output_type": "stream",
          "text": [
            "Epoch 1/10\n",
            "2461/2461 [==============================] - 6s 2ms/step - loss: 0.2881 - accuracy: 0.9151\n",
            "Epoch 2/10\n",
            "2461/2461 [==============================] - 6s 2ms/step - loss: 0.2709 - accuracy: 0.9188\n",
            "Epoch 3/10\n",
            "2461/2461 [==============================] - 5s 2ms/step - loss: 0.2700 - accuracy: 0.9188\n",
            "Epoch 4/10\n",
            "2461/2461 [==============================] - 4s 2ms/step - loss: 0.2697 - accuracy: 0.9188\n",
            "Epoch 5/10\n",
            "2461/2461 [==============================] - 4s 2ms/step - loss: 0.2695 - accuracy: 0.9188\n",
            "Epoch 6/10\n",
            "2461/2461 [==============================] - 4s 2ms/step - loss: 0.2693 - accuracy: 0.9188\n",
            "Epoch 7/10\n",
            "2461/2461 [==============================] - 4s 2ms/step - loss: 0.2692 - accuracy: 0.9188\n",
            "Epoch 8/10\n",
            "2461/2461 [==============================] - 4s 2ms/step - loss: 0.2691 - accuracy: 0.9188\n",
            "Epoch 9/10\n",
            "2461/2461 [==============================] - 4s 2ms/step - loss: 0.2689 - accuracy: 0.9188\n",
            "Epoch 10/10\n",
            "2461/2461 [==============================] - 4s 2ms/step - loss: 0.2688 - accuracy: 0.9188\n",
            "Accuracy: 91.88 %\n"
          ]
        }
      ],
      "source": [
        "# Neural Network\n",
        "import keras\n",
        "from keras.models import Sequential\n",
        "from keras.layers import Dense\n",
        "model = Sequential()\n",
        "model.add(Dense(8, input_shape=(64,), activation='relu'))\n",
        "model.add(Dense(8, activation='relu'))\n",
        "model.add(Dense(1, activation='sigmoid'))\n",
        "model.compile(loss = 'binary_crossentropy', optimizer='adam', metrics = ['accuracy'])\n",
        "model.fit(X_train, y_train, epochs=10, batch_size=100)\n",
        "_,accuracy_nn = model.evaluate(X_train, y_train, verbose=0)\n",
        "print('Accuracy: %.2f' % (accuracy_nn*100),\"%\")"
      ]
    },
    {
      "cell_type": "code",
      "execution_count": 41,
      "metadata": {
        "colab": {
          "base_uri": "https://localhost:8080/"
        },
        "id": "_kFDlvsXF2Kd",
        "outputId": "cd4a69d6-33ae-4076-fcf8-3cbf5623961f"
      },
      "outputs": [
        {
          "name": "stdout",
          "output_type": "stream",
          "text": [
            "Confusion Matrix for Neural Network\n",
            "        0  1\n",
            "0  56648  0\n",
            "1   4855  0\n"
          ]
        }
      ],
      "source": [
        "import seaborn as sns\n",
        "import matplotlib.pyplot as plt\n",
        "from sklearn import metrics\n",
        "\n",
        "y_pred_nn = model.predict(X_test)\n",
        "y_pred_nn = (y_pred_nn > 0.5)\n",
        "\n",
        "# Plotting confusion matrix for neural network\n",
        "# 1 means clients with payment difficulties/ 0 means clients without difficulties\n",
        "cm_nn = metrics.confusion_matrix(y_test, y_pred_nn)\n",
        "matrix = pd.DataFrame(cm_nn, \n",
        "                      ('0', '1'), \n",
        "                      ('0', '1'))\n",
        "print(\"Confusion Matrix for Neural Network\\n\", matrix)"
      ]
    },
    {
      "cell_type": "code",
      "execution_count": 63,
      "metadata": {
        "colab": {
          "base_uri": "https://localhost:8080/",
          "height": 297
        },
        "id": "qaNWe9RMExtK",
        "outputId": "e0912013-4136-4f02-a44f-637de93b3688"
      },
      "outputs": [
        {
          "data": {
            "image/png": "[encoded data removed]",
            "text/plain": [
              "<Figure size 432x288 with 2 Axes>"
            ]
          },
          "metadata": {
            "needs_background": "light"
          },
          "output_type": "display_data"
        }
      ],
      "source": [
        "# Visualising confusion matrix for neural network\n",
        "cm_nn_display = metrics.ConfusionMatrixDisplay(confusion_matrix = cm_nn, display_labels = [0, 1])\n",
        "cm_nn_display.plot(cmap = 'YlGnBu')\n",
        "score_nn = 'Accuracy: %.4f' % (accuracy_nn)\n",
        "all_sample_title = 'Accuracy Score: {0}'.format(score_nn)\n",
        "plt.title(all_sample_title, size = 15)\n",
        "plt.show()"
      ]
    },
    {
      "cell_type": "code",
      "execution_count": null,
      "metadata": {
        "id": "W2EiNQAPkI4C"
      },
      "outputs": [],
      "source": [
        "score_nn = metrics.accuracy_score(y_test,y_pred_nn).astype(float)\n",
        "score_nn = round(score_nn, 6)"
      ]
    },
    {
      "cell_type": "markdown",
      "metadata": {
        "id": "Mwpk6H92Z9uP"
      },
      "source": [
        "### Principal Component Analysis (PCA)"
      ]
    },
    {
      "cell_type": "code",
      "execution_count": 47,
      "metadata": {
        "id": "XL4UOEVoaPI9"
      },
      "outputs": [],
      "source": [
        "from sklearn.preprocessing import StandardScaler\n",
        "sc = StandardScaler()\n",
        " \n",
        "X_train = sc.fit_transform(X_train)\n",
        "X_test = sc.transform(X_test)"
      ]
    },
    {
      "cell_type": "code",
      "execution_count": 51,
      "metadata": {
        "id": "lN2MRNP9aVkY"
      },
      "outputs": [],
      "source": [
        "# Applying PCA function on training and testing set of X component\n",
        "from sklearn.decomposition import PCA\n",
        " \n",
        "pca = PCA(.88)\n",
        " \n",
        "X_train_pca = pca.fit_transform(X_train)\n",
        "X_test_pca = pca.transform(X_test)\n",
        "\n",
        " \n",
        "explained_variance = pca.explained_variance_ratio_"
      ]
    },
    {
      "cell_type": "markdown",
      "metadata": {
        "id": "2ZD9QhAyx10Y"
      },
      "source": [
        "### Logistic Regression with PCA"
      ]
    },
    {
      "cell_type": "code",
      "execution_count": 54,
      "metadata": {
        "colab": {
          "base_uri": "https://localhost:8080/"
        },
        "id": "r5UOb7VTakfr",
        "outputId": "c49a9599-dcd5-4147-b8c0-a407bb541fa9"
      },
      "outputs": [
        {
          "name": "stdout",
          "output_type": "stream",
          "text": [
            "Confusion Matrix for PCA\n",
            "        0  1\n",
            "0  56648  0\n",
            "1   4855  0\n",
            "Accuracy: 0.9211\n"
          ]
        }
      ],
      "source": [
        "# Fitting Logistic Regression To the training set\n",
        "from sklearn.linear_model import LogisticRegression \n",
        " \n",
        "classifier_pca = LogisticRegression(random_state = 0)\n",
        "classifier_pca.fit(X_train_pca, y_train)\n",
        "\n",
        "# Predicting the test set result using\n",
        "# predict function under LogisticRegression\n",
        "y_pred_pca = classifier_pca.predict(X_test_pca)\n",
        "\n",
        "# making confusion matrix between\n",
        "# test set of Y and predicted value.\n",
        "from sklearn.metrics import confusion_matrix\n",
        "\n",
        "cm_pca = confusion_matrix(y_test, y_pred_pca)\n",
        "matrix = pd.DataFrame(cm_pca, \n",
        "                      ('0', '1'), \n",
        "                      ('0', '1'))\n",
        "print(\"Confusion Matrix for PCA\\n\", matrix)\n",
        "score_pca = classifier_pca.score(X_test_pca, y_test)\n",
        "score_pca = round(score_pca, 4)\n",
        "print(\"Accuracy:\", score_pca)"
      ]
    },
    {
      "cell_type": "code",
      "execution_count": 39,
      "metadata": {
        "colab": {
          "base_uri": "https://localhost:8080/"
        },
        "id": "DPRNRA-Zgutb",
        "outputId": "2ef82488-699b-4baf-aad2-a42e126ac681"
      },
      "outputs": [
        {
          "name": "stderr",
          "output_type": "stream",
          "text": [
            "/usr/local/lib/python3.7/dist-packages/statsmodels/tools/_testing.py:19: FutureWarning: pandas.util.testing is deprecated. Use the functions in the public API at pandas.testing instead.\n",
            "  import pandas.util.testing as tm\n"
          ]
        },
        {
          "name": "stdout",
          "output_type": "stream",
          "text": [
            "Optimization terminated successfully.\n",
            "         Current function value: 0.690107\n",
            "         Iterations 5\n",
            "                          Results: Logit\n",
            "==================================================================\n",
            "Model:              Logit            Pseudo R-squared: -1.450     \n",
            "Dependent Variable: TARGET           AIC:              339623.5461\n",
            "Date:               2022-07-25 16:37 BIC:              340040.0709\n",
            "No. Observations:   246008           Log-Likelihood:   -1.6977e+05\n",
            "Df Model:           39               LL-Null:          -69284.    \n",
            "Df Residuals:       245968           LLR p-value:      1.0000     \n",
            "Converged:          1.0000           Scale:            1.0000     \n",
            "No. Iterations:     5.0000                                        \n",
            "--------------------------------------------------------------------\n",
            "           Coef.    Std.Err.      z       P>|z|     [0.025    0.975]\n",
            "--------------------------------------------------------------------\n",
            "x1         0.0289     0.0018    16.0453   0.0000    0.0254    0.0324\n",
            "x2        -0.0559     0.0024   -23.3855   0.0000   -0.0606   -0.0512\n",
            "x3        -0.0076     0.0025    -3.0576   0.0022   -0.0124   -0.0027\n",
            "x4         0.0310     0.0026    11.9554   0.0000    0.0259    0.0360\n",
            "x5        -0.0239     0.0027    -8.8021   0.0000   -0.0293   -0.0186\n",
            "x6        -0.0111     0.0028    -3.9832   0.0001   -0.0165   -0.0056\n",
            "x7        -0.0132     0.0029    -4.5271   0.0000   -0.0189   -0.0075\n",
            "x8         0.0425     0.0031    13.6968   0.0000    0.0364    0.0486\n",
            "x9         0.0078     0.0033     2.4094   0.0160    0.0015    0.0142\n",
            "x10       -0.0102     0.0034    -2.9982   0.0027   -0.0169   -0.0035\n",
            "x11        0.0141     0.0034     4.0909   0.0000    0.0073    0.0209\n",
            "x12       -0.0403     0.0036   -11.3519   0.0000   -0.0473   -0.0333\n",
            "x13       -0.0082     0.0036    -2.2763   0.0228   -0.0152   -0.0011\n",
            "x14        0.0031     0.0036     0.8369   0.4026   -0.0041    0.0102\n",
            "x15        0.0022     0.0037     0.6050   0.5452   -0.0050    0.0094\n",
            "x16        0.0060     0.0037     1.6203   0.1052   -0.0013    0.0132\n",
            "x17        0.0027     0.0037     0.7392   0.4598   -0.0045    0.0100\n",
            "x18       -0.0023     0.0037    -0.6296   0.5290   -0.0096    0.0049\n",
            "x19        0.0085     0.0038     2.2538   0.0242    0.0011    0.0159\n",
            "x20        0.0142     0.0038     3.7404   0.0002    0.0068    0.0216\n",
            "x21       -0.0179     0.0039    -4.6205   0.0000   -0.0255   -0.0103\n",
            "x22        0.0015     0.0039     0.3806   0.7035   -0.0061    0.0091\n",
            "x23       -0.0050     0.0039    -1.2674   0.2050   -0.0127    0.0027\n",
            "x24        0.0011     0.0039     0.2876   0.7736   -0.0066    0.0088\n",
            "x25       -0.0038     0.0040    -0.9614   0.3363   -0.0116    0.0040\n",
            "x26        0.0055     0.0043     1.2654   0.2057   -0.0030    0.0140\n",
            "x27       -0.0093     0.0041    -2.2482   0.0246   -0.0174   -0.0012\n",
            "x28       -0.0044     0.0041    -1.0943   0.2738   -0.0124    0.0035\n",
            "x29        0.0042     0.0042     0.9981   0.3182   -0.0041    0.0125\n",
            "x30        0.0012     0.0044     0.2796   0.7798   -0.0075    0.0100\n",
            "x31        0.0001     0.0041     0.0203   0.9838   -0.0080    0.0081\n",
            "x32       -0.0019     0.0043    -0.4350   0.6636   -0.0103    0.0066\n",
            "x33       -0.0062     0.0045    -1.3865   0.1656   -0.0151    0.0026\n",
            "x34       -0.0027     0.0042    -0.6352   0.5253   -0.0109    0.0056\n",
            "x35        0.0015     0.0042     0.3697   0.7116   -0.0066    0.0097\n",
            "x36        0.0006     0.0042     0.1524   0.8788   -0.0075    0.0088\n",
            "x37        0.0024     0.0041     0.5807   0.5615   -0.0057    0.0105\n",
            "x38       -0.0100     0.0042    -2.4026   0.0163   -0.0181   -0.0018\n",
            "x39        0.0077     0.0046     1.6904   0.0909   -0.0012    0.0167\n",
            "x40       -0.0034     0.0042    -0.8141   0.4156   -0.0116    0.0048\n",
            "==================================================================\n",
            "\n"
          ]
        }
      ],
      "source": [
        "#Implementing the model\n",
        "import statsmodels.api as sm\n",
        "logit_model_pca=sm.Logit(y_train,X_train_pca)\n",
        "result=logit_model_pca.fit()\n",
        "print(result.summary2())"
      ]
    }
  ],
  "metadata": {
    "colab": {
      "collapsed_sections": [],
      "name": "Loan Default Risk Analysis.ipynb",
      "provenance": []
    },
    "kernelspec": {
      "display_name": "Python 3",
      "name": "python3"
    },
    "language_info": {
      "name": "python"
    }
  },
  "nbformat": 4,
  "nbformat_minor": 0
}
